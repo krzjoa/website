{
 "cells": [
  {
   "cell_type": "markdown",
   "id": "8d7a6cfe",
   "metadata": {},
   "source": [
    "# How cool is cucumber? Experiments with word embedding"
   ]
  },
  {
   "cell_type": "markdown",
   "id": "3e1a60e1",
   "metadata": {},
   "source": [
    "We all know old, good and hackneyed examples, that are typically used to intuitively explain, what the **word embedding** technique is. We almost always come across a chart presenting a simplified, 2-dimensional vector representation of words **queen** and **king**, which are distant from each other in the similar length as words **woman** and **man**. "
   ]
  },
  {
   "cell_type": "code",
   "execution_count": null,
   "id": "101e1637",
   "metadata": {},
   "outputs": [],
   "source": [
    "    "
   ]
  },
  {
   "cell_type": "markdown",
   "id": "f0e5c291",
   "metadata": {},
   "source": [
    "One of the most convenient ways to get **embedding vectors** for natural language is to use pre-trained models distributed with [**spacy**](https://spacy.io/) library."
   ]
  },
  {
   "cell_type": "code",
   "execution_count": 22,
   "id": "5e8365e7",
   "metadata": {},
   "outputs": [],
   "source": [
    "import numpy\n",
    "import numpy.typing as npt\n",
    "import spacy\n",
    "# Installing en_core_web_md"
   ]
  },
  {
   "cell_type": "code",
   "execution_count": 4,
   "id": "a08631c2",
   "metadata": {},
   "outputs": [],
   "source": [
    "nlp = spacy.load('en_core_web_md')"
   ]
  },
  {
   "cell_type": "code",
   "execution_count": 6,
   "id": "cf9c48a2",
   "metadata": {},
   "outputs": [],
   "source": [
    "fire = nlp('fire')\n",
    "ice = nlp('ice')"
   ]
  },
  {
   "cell_type": "code",
   "execution_count": 11,
   "id": "3fc05943",
   "metadata": {},
   "outputs": [
    {
     "data": {
      "text/plain": [
       "300"
      ]
     },
     "execution_count": 11,
     "metadata": {},
     "output_type": "execute_result"
    }
   ],
   "source": [
    "len(fire.vector)"
   ]
  },
  {
   "cell_type": "markdown",
   "id": "0684625f",
   "metadata": {},
   "source": [
    "A couple of simple function calls, but there is a lot work done behind the scene. In fact, we can use **nlp** object to process whole sentences (or documents) at once. For now, we only need to process single words."
   ]
  },
  {
   "cell_type": "markdown",
   "id": "6e90c266",
   "metadata": {},
   "source": [
    "## Adding a new axis"
   ]
  },
  {
   "cell_type": "markdown",
   "id": "747d937a",
   "metadata": {},
   "source": [
    "The experiment I'd like to conduct is to \"draw\" a straight line in n-dimensional space and treat it as a new axis. It's possible if we project the considered points on this line."
   ]
  },
  {
   "cell_type": "markdown",
   "id": "d519cdd3",
   "metadata": {},
   "source": [
    "## Line in n-dimensional space"
   ]
  },
  {
   "cell_type": "markdown",
   "id": "8c1c0c14",
   "metadata": {},
   "source": [
    "First of all, we find an equation of a line generalized to n-dimensional space. Such straight line can be unambiguously determined using a point lying on this line and so-called **direction vector**."
   ]
  },
  {
   "cell_type": "markdown",
   "id": "e0931944",
   "metadata": {},
   "source": [
    "<center>\n",
    "$\\vec{d} = (l, m, n, ...)$\n",
    "</center>"
   ]
  },
  {
   "cell_type": "markdown",
   "id": "7edbad16",
   "metadata": {},
   "source": [
    "Given the points $A = (x, y, z)$ and $B = (x_{1}, y_{1}, z_{1})$, it's simply computed as a elementwise difference between these two points, namely:"
   ]
  },
  {
   "cell_type": "markdown",
   "id": "349e202e",
   "metadata": {},
   "source": [
    "<center>\n",
    "$ \\vec{d} = A - B = (x, y, z, ...) - (x_{1}, y_{1}, z_{1}, ...) $\n",
    "</center>"
   ]
  },
  {
   "cell_type": "markdown",
   "id": "f39eeca0",
   "metadata": {},
   "source": [
    "In our case, it can be defined as follows:"
   ]
  },
  {
   "cell_type": "code",
   "execution_count": 16,
   "id": "2e84f2fd",
   "metadata": {},
   "outputs": [],
   "source": [
    "direction = fire.vector - ice.vector"
   ]
  },
  {
   "cell_type": "markdown",
   "id": "6b88d21d",
   "metadata": {},
   "source": [
    "Complete equation:\n",
    "\n",
    "<center>\n",
    "$ \\frac{x - x_{1}}{l}  = \\frac{y - y_{1}}{m} = \\frac{z - z_{1}}{n} =   \\ ...$\n",
    "</center>\n",
    "\n"
   ]
  },
  {
   "cell_type": "markdown",
   "id": "e0375a31",
   "metadata": {},
   "source": []
  },
  {
   "cell_type": "markdown",
   "id": "c478c2a0",
   "metadata": {},
   "source": [
    "We also will use a **midpoint** between two initial points as beginining of our new axis.\n",
    "It can be calculated with the following formula:\n",
    "\n",
    "<center>\n",
    "$  M = (\\frac{x + x_{1}}{2}, \\frac{y + y_{1}}{2}, \\frac{z + z_{1}}{2}, ...) $\n",
    "</center>"
   ]
  },
  {
   "cell_type": "markdown",
   "id": "1e534070",
   "metadata": {},
   "source": [
    "Writing that as a function:"
   ]
  },
  {
   "cell_type": "code",
   "execution_count": 32,
   "id": "1a341076",
   "metadata": {},
   "outputs": [],
   "source": [
    "def midpoint(x: npt.NDArray, y: npt.NDArray) -> npt.NDArray:\n",
    "    if (len(x) != len(y)):\n",
    "        raise ValueError(\n",
    "            'Vectors come from different spaces! ' + \n",
    "            'x: {} dimensions, y: {} dimensions'.format(len(x), len(y)))\n",
    "    return (x + y) / 2"
   ]
  },
  {
   "cell_type": "code",
   "execution_count": 36,
   "id": "a72ca016",
   "metadata": {},
   "outputs": [],
   "source": [
    "# midpoint(np.array([2, 3]), np.array([-1, 20]))\n",
    "# midpoint(np.array([2, 3]), np.array([-1, 20, -45]))"
   ]
  },
  {
   "cell_type": "code",
   "execution_count": 37,
   "id": "873e3040",
   "metadata": {},
   "outputs": [],
   "source": [
    "mid = midpoint(fire.vector, ice.vector)"
   ]
  },
  {
   "cell_type": "markdown",
   "id": "860aaa17",
   "metadata": {},
   "source": [
    "Two values that we need for the moment:\n",
    "* ```mid```\n",
    "* ```direction```"
   ]
  },
  {
   "cell_type": "markdown",
   "id": "b9d08010",
   "metadata": {},
   "source": [
    "## Distance from a new point to the beggining of the axis"
   ]
  },
  {
   "cell_type": "markdown",
   "id": "7bf8f75d",
   "metadata": {},
   "source": [
    "Next, we compute distance from a point to the begining of the aforementioned new axis."
   ]
  },
  {
   "cell_type": "code",
   "execution_count": null,
   "id": "353f6551",
   "metadata": {},
   "outputs": [],
   "source": [
    "# https://math.stackexchange.com/questions/1905533/find-perpendicular-distance-from-point-to-line-in-3d\n",
    "# https://onlinemschool.com/math/library/analytic_geometry/p_line/"
   ]
  },
  {
   "cell_type": "code",
   "execution_count": 38,
   "id": "b4ad75c0",
   "metadata": {},
   "outputs": [],
   "source": [
    "cucumber = nlp('cucumber')"
   ]
  },
  {
   "cell_type": "markdown",
   "id": "1558f712",
   "metadata": {},
   "source": [
    "<center>\n",
    "$\\overline{MC} = M - C $\n",
    "<\\center>"
   ]
  },
  {
   "cell_type": "code",
   "execution_count": 41,
   "id": "412aaa75",
   "metadata": {},
   "outputs": [],
   "source": [
    "mc_dist = mid - cucumber.vector"
   ]
  },
  {
   "cell_type": "markdown",
   "id": "14daf0ae",
   "metadata": {},
   "source": [
    "## Projection"
   ]
  },
  {
   "cell_type": "code",
   "execution_count": 49,
   "id": "35c77981",
   "metadata": {},
   "outputs": [],
   "source": [
    "projection_dist = mc_dist @ direction"
   ]
  },
  {
   "cell_type": "code",
   "execution_count": 50,
   "id": "a341cead",
   "metadata": {},
   "outputs": [
    {
     "data": {
      "text/plain": [
       "6.8615074"
      ]
     },
     "execution_count": 50,
     "metadata": {},
     "output_type": "execute_result"
    }
   ],
   "source": [
    "projection_dist"
   ]
  },
  {
   "cell_type": "markdown",
   "id": "ee67c3c3",
   "metadata": {},
   "source": [
    "Rewriting all as a function"
   ]
  },
  {
   "cell_type": "code",
   "execution_count": 53,
   "id": "f4835df0",
   "metadata": {},
   "outputs": [],
   "source": [
    "class axis:\n",
    "    \n",
    "    def __init__(self, x, y):\n",
    "        self.x = x \n",
    "        self.y = y\n",
    "        self.mid = midpoint(x, y)\n",
    "        self.direction = x - y\n",
    "        \n",
    "        self.pole_x = self._compute(x)\n",
    "        self.pole_y = self._compute(y)\n",
    "        \n",
    "    def __call__(self, vec):\n",
    "        return self._compute(vec)\n",
    "    \n",
    "    def _compute(self, vec):\n",
    "        mc_dist = mid - vec\n",
    "        return mc_dist @ self.direction"
   ]
  },
  {
   "cell_type": "code",
   "execution_count": 69,
   "id": "e19638b1",
   "metadata": {},
   "outputs": [],
   "source": [
    "fire_ice_axis = axis(fire.vector, ice.vector)"
   ]
  },
  {
   "cell_type": "code",
   "execution_count": 70,
   "id": "6ebb6ac9",
   "metadata": {},
   "outputs": [
    {
     "data": {
      "text/plain": [
       "33.697186"
      ]
     },
     "execution_count": 70,
     "metadata": {},
     "output_type": "execute_result"
    }
   ],
   "source": [
    "# Ice\n",
    "ice_fire_axis.pole_x\n",
    "\n",
    "# Fire\n",
    "ice_fire_axis.pole_y"
   ]
  },
  {
   "cell_type": "code",
   "execution_count": 79,
   "id": "6da707fd",
   "metadata": {},
   "outputs": [
    {
     "data": {
      "text/plain": [
       "12.972902"
      ]
     },
     "execution_count": 79,
     "metadata": {},
     "output_type": "execute_result"
    }
   ],
   "source": [
    "fire_ice_axis(nlp('icecream').vector)"
   ]
  },
  {
   "cell_type": "code",
   "execution_count": null,
   "id": "128584a5",
   "metadata": {},
   "outputs": [],
   "source": [
    "# "
   ]
  }
 ],
 "metadata": {
  "kernelspec": {
   "display_name": "Python 3 (Spyder)",
   "language": "python3",
   "name": "python3"
  },
  "language_info": {
   "codemirror_mode": {
    "name": "ipython",
    "version": 3
   },
   "file_extension": ".py",
   "mimetype": "text/x-python",
   "name": "python",
   "nbconvert_exporter": "python",
   "pygments_lexer": "ipython3",
   "version": "3.8.10"
  }
 },
 "nbformat": 4,
 "nbformat_minor": 5
}
