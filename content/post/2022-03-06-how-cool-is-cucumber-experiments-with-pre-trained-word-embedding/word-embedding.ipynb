{
 "cells": [
  {
   "cell_type": "markdown",
   "id": "82107593",
   "metadata": {},
   "source": [
    "# How cool is cucumber? Experiments with word embedding"
   ]
  },
  {
   "cell_type": "markdown",
   "id": "1b70f651",
   "metadata": {},
   "source": [
    "We all know old, good and hackneyed examples, that are typically used to intuitively explain, what the **word embedding** technique is. We almost always come across a chart presenting a simplified, 2-dimensional vector representation of words **queen** and **king**, which are distant from each other in the similar length as words **woman** and **man**. "
   ]
  },
  {
   "cell_type": "code",
   "execution_count": null,
   "id": "f11eef0b",
   "metadata": {},
   "outputs": [],
   "source": [
    "    "
   ]
  },
  {
   "cell_type": "markdown",
   "id": "97dccd83",
   "metadata": {},
   "source": [
    "One of the most convenient ways to get **embedding vectors** for natural language is to use pre-trained models distributed with [**spacy**](https://spacy.io/) library."
   ]
  },
  {
   "cell_type": "code",
   "execution_count": 1,
   "id": "22691eb1",
   "metadata": {},
   "outputs": [],
   "source": [
    "import numpy as np\n",
    "import numpy.typing as npt\n",
    "import spacy\n",
    "import matplotlib.pyplot as plt\n",
    "# Installing en_core_web_md"
   ]
  },
  {
   "cell_type": "code",
   "execution_count": 2,
   "id": "add94208",
   "metadata": {},
   "outputs": [],
   "source": [
    "nlp = spacy.load('en_core_web_md')"
   ]
  },
  {
   "cell_type": "code",
   "execution_count": 3,
   "id": "a401975e",
   "metadata": {},
   "outputs": [],
   "source": [
    "fire = nlp('fire')\n",
    "ice = nlp('ice')"
   ]
  },
  {
   "cell_type": "code",
   "execution_count": 4,
   "id": "233f512c",
   "metadata": {},
   "outputs": [
    {
     "data": {
      "text/plain": [
       "300"
      ]
     },
     "execution_count": 4,
     "metadata": {},
     "output_type": "execute_result"
    }
   ],
   "source": [
    "len(fire.vector)"
   ]
  },
  {
   "cell_type": "markdown",
   "id": "b6985f96",
   "metadata": {},
   "source": [
    "A couple of simple function calls, but there is a lot work done behind the scene. In fact, we can use **nlp** object to process whole sentences (or documents) at once. For now, we only need to process single words."
   ]
  },
  {
   "cell_type": "markdown",
   "id": "2c7da53f",
   "metadata": {},
   "source": [
    "## Adding a new axis"
   ]
  },
  {
   "cell_type": "markdown",
   "id": "b03cc4eb",
   "metadata": {},
   "source": [
    "The experiment I'd like to conduct is to \"draw\" a straight line in n-dimensional space and treat it as a new axis. It's possible if we project the considered points on this line."
   ]
  },
  {
   "cell_type": "markdown",
   "id": "d02262c4",
   "metadata": {},
   "source": [
    "## Line in n-dimensional space"
   ]
  },
  {
   "cell_type": "markdown",
   "id": "83b301e3",
   "metadata": {},
   "source": [
    "First of all, we find an equation of a line generalized to n-dimensional space. Such straight line can be unambiguously determined using a point lying on this line and so-called **direction vector**."
   ]
  },
  {
   "cell_type": "markdown",
   "id": "1ed8a9c7",
   "metadata": {},
   "source": [
    "<center>\n",
    "$\\vec{d} = (l, m, n, ...)$\n",
    "</center>"
   ]
  },
  {
   "cell_type": "markdown",
   "id": "a9a048e1",
   "metadata": {},
   "source": [
    "Given the points $A = (x, y, z)$ and $B = (x_{1}, y_{1}, z_{1})$, it's simply computed as a elementwise difference between these two points, namely:"
   ]
  },
  {
   "cell_type": "markdown",
   "id": "76968878",
   "metadata": {},
   "source": [
    "<center>\n",
    "$ \\vec{d} = A - B = (x, y, z, ...) - (x_{1}, y_{1}, z_{1}, ...) $\n",
    "</center>"
   ]
  },
  {
   "cell_type": "markdown",
   "id": "f51fda20",
   "metadata": {},
   "source": [
    "In our case, it can be defined as follows:"
   ]
  },
  {
   "cell_type": "code",
   "execution_count": 5,
   "id": "bb0f1cc1",
   "metadata": {},
   "outputs": [],
   "source": [
    "direction = fire.vector - ice.vector"
   ]
  },
  {
   "cell_type": "markdown",
   "id": "a4644342",
   "metadata": {},
   "source": [
    "Complete equation:\n",
    "\n",
    "<center>\n",
    "$ \\frac{x - x_{1}}{l}  = \\frac{y - y_{1}}{m} = \\frac{z - z_{1}}{n} =   \\ ...$\n",
    "</center>\n",
    "\n"
   ]
  },
  {
   "cell_type": "markdown",
   "id": "84a1fe19",
   "metadata": {},
   "source": []
  },
  {
   "cell_type": "markdown",
   "id": "ba5838b3",
   "metadata": {},
   "source": [
    "We also will use a **midpoint** between two initial points as beginining of our new axis.\n",
    "It can be calculated with the following formula:\n",
    "\n",
    "<center>\n",
    "$  M = (\\frac{x + x_{1}}{2}, \\frac{y + y_{1}}{2}, \\frac{z + z_{1}}{2}, ...) $\n",
    "</center>"
   ]
  },
  {
   "cell_type": "markdown",
   "id": "8d15ea31",
   "metadata": {},
   "source": [
    "Writing that as a function:"
   ]
  },
  {
   "cell_type": "code",
   "execution_count": 6,
   "id": "0ab70b6d",
   "metadata": {},
   "outputs": [],
   "source": [
    "def midpoint(x: npt.NDArray, y: npt.NDArray) -> npt.NDArray:\n",
    "    if (len(x) != len(y)):\n",
    "        raise ValueError(\n",
    "            'Vectors come from different spaces! ' + \n",
    "            'x: {} dimensions, y: {} dimensions'.format(len(x), len(y)))\n",
    "    return (x + y) / 2"
   ]
  },
  {
   "cell_type": "code",
   "execution_count": 7,
   "id": "cddff186",
   "metadata": {},
   "outputs": [],
   "source": [
    "# midpoint(np.array([2, 3]), np.array([-1, 20]))\n",
    "# midpoint(np.array([2, 3]), np.array([-1, 20, -45]))"
   ]
  },
  {
   "cell_type": "code",
   "execution_count": 8,
   "id": "6baff561",
   "metadata": {},
   "outputs": [],
   "source": [
    "mid = midpoint(fire.vector, ice.vector)"
   ]
  },
  {
   "cell_type": "markdown",
   "id": "f429b2ec",
   "metadata": {},
   "source": [
    "Two values that we need for the moment:\n",
    "* ```mid```\n",
    "* ```direction```"
   ]
  },
  {
   "cell_type": "markdown",
   "id": "606a34f5",
   "metadata": {},
   "source": [
    "## Distance from a new point to the beggining of the axis"
   ]
  },
  {
   "cell_type": "markdown",
   "id": "2d5c9799",
   "metadata": {},
   "source": [
    "Next, we compute distance from a point to the begining of the aforementioned new axis."
   ]
  },
  {
   "cell_type": "code",
   "execution_count": 9,
   "id": "00e8c17f",
   "metadata": {},
   "outputs": [],
   "source": [
    "# https://math.stackexchange.com/questions/1905533/find-perpendicular-distance-from-point-to-line-in-3d\n",
    "# https://onlinemschool.com/math/library/analytic_geometry/p_line/"
   ]
  },
  {
   "cell_type": "code",
   "execution_count": 10,
   "id": "a2fafa39",
   "metadata": {},
   "outputs": [],
   "source": [
    "cucumber = nlp('cucumber')"
   ]
  },
  {
   "cell_type": "markdown",
   "id": "1443e0ab",
   "metadata": {},
   "source": [
    "<center>\n",
    "$\\overline{MC} = M - C $\n",
    "<\\center>"
   ]
  },
  {
   "cell_type": "code",
   "execution_count": 11,
   "id": "47222c6e",
   "metadata": {},
   "outputs": [],
   "source": [
    "mc_dist = mid - cucumber.vector"
   ]
  },
  {
   "cell_type": "markdown",
   "id": "6610674a",
   "metadata": {},
   "source": [
    "## Projection"
   ]
  },
  {
   "cell_type": "code",
   "execution_count": 12,
   "id": "3ca68e96",
   "metadata": {},
   "outputs": [],
   "source": [
    "projection_dist = mc_dist @ direction"
   ]
  },
  {
   "cell_type": "code",
   "execution_count": 13,
   "id": "9ff0d481",
   "metadata": {},
   "outputs": [
    {
     "data": {
      "text/plain": [
       "6.8615074"
      ]
     },
     "execution_count": 13,
     "metadata": {},
     "output_type": "execute_result"
    }
   ],
   "source": [
    "projection_dist"
   ]
  },
  {
   "cell_type": "markdown",
   "id": "bb4852ba",
   "metadata": {},
   "source": [
    "Rewriting all as a function"
   ]
  },
  {
   "cell_type": "code",
   "execution_count": 22,
   "id": "b070f070",
   "metadata": {},
   "outputs": [],
   "source": [
    "class axis:\n",
    "    \n",
    "    def __init__(self, x, y):\n",
    "        self.x = x \n",
    "        self.y = y\n",
    "        self.mid = midpoint(x, y)\n",
    "        self.direction = (x - self.mid) / np.linalg.norm(x - self.mid)\n",
    "        \n",
    "        self.pole_x = self(x)\n",
    "        self.pole_y = self(y)\n",
    "        \n",
    "    def __call__(self, vec):\n",
    "        mc_dist = vec - self.mid \n",
    "        return mc_dist @ self.direction"
   ]
  },
  {
   "cell_type": "code",
   "execution_count": 23,
   "id": "8ea003e3",
   "metadata": {},
   "outputs": [],
   "source": [
    "## Simplified example in 2-dimensional space"
   ]
  },
  {
   "cell_type": "code",
   "execution_count": 24,
   "id": "d622c246",
   "metadata": {},
   "outputs": [],
   "source": [
    "# To discover potential bugs in the code we've written, \n",
    "# we make a simple experiment using a comprehensible example in 2-dimensional space."
   ]
  },
  {
   "cell_type": "code",
   "execution_count": 39,
   "id": "e56b164e",
   "metadata": {},
   "outputs": [
    {
     "data": {
      "image/png": "[encoded data removed]",
      "text/plain": [
       "<Figure size 432x288 with 1 Axes>"
      ]
     },
     "metadata": {},
     "output_type": "display_data"
    },
    {
     "data": {
      "text/plain": [
       "1.2538920696157714"
      ]
     },
     "execution_count": 39,
     "metadata": {},
     "output_type": "execute_result"
    }
   ],
   "source": [
    "# Points lying on the straight line\n",
    "a = np.array([-10, 2])\n",
    "b = np.array([5, 18])\n",
    "\n",
    "line_a_b = axis(a, b)\n",
    "mid_a_b = line_a_b.mid\n",
    "\n",
    "c = np.array([-6, 15])\n",
    "proj_c = mid_a_b + (c - mid_a_b) @ line_a_b.direction\n",
    "\n",
    "points = [a, b, mid_a_b, c, proj_c]\n",
    "\n",
    "points_x = [x[0] for x in points]\n",
    "points_y = [x[1] for x in points]\n",
    "\n",
    "\n",
    "plt.plot([a[0], b[0]], [a[1], b[1]])\n",
    "plt.plot(points_x, points_y, '.')\n",
    "# Line\n",
    "plt.plot([c[0], proj_c[0]], [c[1], proj_c[1]], '-')\n",
    "plt.axhline(linewidth=1, color='black')\n",
    "plt.axvline(linewidth=1, color='black')\n",
    "plt.show()\n",
    "\n",
    "\n",
    "\n",
    "(mid_a_b - c) @ line_a_b.direction"
   ]
  },
  {
   "cell_type": "code",
   "execution_count": 29,
   "id": "57f83e81",
   "metadata": {},
   "outputs": [],
   "source": [
    "ice_fire_axis = axis(ice.vector, fire.vector)"
   ]
  },
  {
   "cell_type": "code",
   "execution_count": 35,
   "id": "4f5f3668",
   "metadata": {},
   "outputs": [
    {
     "data": {
      "text/plain": [
       "-4.104704"
      ]
     },
     "execution_count": 35,
     "metadata": {},
     "output_type": "execute_result"
    }
   ],
   "source": [
    "# Ice\n",
    "ice_fire_axis.pole_x\n",
    "\n",
    "# Fire\n",
    "ice_fire_axis.pole_y"
   ]
  },
  {
   "cell_type": "code",
   "execution_count": 32,
   "id": "965704a2",
   "metadata": {},
   "outputs": [
    {
     "data": {
      "text/plain": [
       "-1.5802484"
      ]
     },
     "execution_count": 32,
     "metadata": {},
     "output_type": "execute_result"
    }
   ],
   "source": [
    "fire_ice_axis(nlp('icecream').vector)"
   ]
  },
  {
   "cell_type": "code",
   "execution_count": 38,
   "id": "46988a9e",
   "metadata": {},
   "outputs": [
    {
     "data": {
      "text/plain": [
       "-1.3376286"
      ]
     },
     "execution_count": 38,
     "metadata": {},
     "output_type": "execute_result"
    }
   ],
   "source": [
    "fire_ice_axis(nlp('polar').vector)"
   ]
  },
  {
   "cell_type": "code",
   "execution_count": null,
   "id": "1d374ccd",
   "metadata": {},
   "outputs": [],
   "source": []
  }
 ],
 "metadata": {
  "kernelspec": {
   "display_name": "Python 3 (Spyder)",
   "language": "python3",
   "name": "python3"
  },
  "language_info": {
   "codemirror_mode": {
    "name": "ipython",
    "version": 3
   },
   "file_extension": ".py",
   "mimetype": "text/x-python",
   "name": "python",
   "nbconvert_exporter": "python",
   "pygments_lexer": "ipython3",
   "version": "3.8.10"
  }
 },
 "nbformat": 4,
 "nbformat_minor": 5
}
